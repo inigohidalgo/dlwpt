{
 "cells": [
  {
   "cell_type": "code",
   "execution_count": 1,
   "id": "d20d335c-c457-4540-b9f2-9121fc7bd8a5",
   "metadata": {},
   "outputs": [],
   "source": [
    "import torch"
   ]
  },
  {
   "cell_type": "code",
   "execution_count": 2,
   "id": "0de24b90-c260-49f3-a6be-cc84442a760b",
   "metadata": {},
   "outputs": [
    {
     "data": {
      "text/plain": [
       "<module 'torch.nn' from '/Users/inigo/Programming/Learning/dlwpt/dlwpt/.venv/lib/python3.10/site-packages/torch/nn/__init__.py'>"
      ]
     },
     "execution_count": 2,
     "metadata": {},
     "output_type": "execute_result"
    }
   ],
   "source": [
    "torch.nn"
   ]
  },
  {
   "cell_type": "code",
   "execution_count": null,
   "id": "745c5484-879b-4d47-a663-afa3a5a471ba",
   "metadata": {},
   "outputs": [],
   "source": []
  },
  {
   "cell_type": "code",
   "execution_count": null,
   "id": "f46c9cc8-15d8-4d72-94a3-7cc850b3649e",
   "metadata": {},
   "outputs": [],
   "source": []
  }
 ],
 "metadata": {
  "kernelspec": {
   "display_name": "DL PyTorch (3.10)",
   "language": "python",
   "name": "dlwpt"
  },
  "language_info": {
   "codemirror_mode": {
    "name": "ipython",
    "version": 3
   },
   "file_extension": ".py",
   "mimetype": "text/x-python",
   "name": "python",
   "nbconvert_exporter": "python",
   "pygments_lexer": "ipython3",
   "version": "3.10.8"
  }
 },
 "nbformat": 4,
 "nbformat_minor": 5
}
